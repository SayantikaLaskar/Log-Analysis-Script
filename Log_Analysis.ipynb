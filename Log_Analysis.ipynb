{
  "nbformat": 4,
  "nbformat_minor": 0,
  "metadata": {
    "colab": {
      "provenance": [],
      "gpuType": "T4"
    },
    "kernelspec": {
      "name": "python3",
      "display_name": "Python 3"
    },
    "language_info": {
      "name": "python"
    },
    "accelerator": "GPU"
  },
  "cells": [
    {
      "cell_type": "code",
      "source": [
        "import csv\n",
        "from collections import defaultdict\n",
        "\n",
        "# Constants\n",
        "FAILED_LOGIN_THRESHOLD = 10\n",
        "\n",
        "# Function to parse the log file\n",
        "def parse_log(file_path):\n",
        "    ip_count = defaultdict(int)\n",
        "    endpoint_count = defaultdict(int)\n",
        "    failed_logins = defaultdict(int)\n",
        "\n",
        "    # Open the log file and process each line\n",
        "    with open(file_path, 'r') as file:\n",
        "        for line in file:\n",
        "            parts = line.split()\n",
        "\n",
        "            # Extracting the IP Address\n",
        "            ip_address = parts[0]\n",
        "\n",
        "            # Count the requests per IP\n",
        "            ip_count[ip_address] += 1\n",
        "\n",
        "            # Extracting the endpoint (resource path)\n",
        "            endpoint = parts[6]  # The endpoint is the 7th element in the log line (index 6)\n",
        "            endpoint_count[endpoint] += 1\n",
        "\n",
        "            # Detecting failed login attempts (HTTP status code 401 or \"Invalid credentials\")\n",
        "            status_code = parts[8]\n",
        "            if status_code == '401' or 'Invalid credentials' in line:\n",
        "                failed_logins[ip_address] += 1\n",
        "\n",
        "    return ip_count, endpoint_count, failed_logins\n",
        "\n",
        "# Function to output the results to the terminal and save to CSV\n",
        "def output_results(ip_count, endpoint_count, failed_logins):\n",
        "    # Print and save Requests per IP Address\n",
        "    print(\"\\nIP Address           Request Count\")\n",
        "    with open('log_analysis_results.csv', 'w', newline='') as csvfile:\n",
        "        writer = csv.writer(csvfile)\n",
        "        writer.writerow(['IP Address', 'Request Count'])\n",
        "        for ip, count in sorted(ip_count.items(), key=lambda x: x[1], reverse=True):\n",
        "            print(f\"{ip:<20}{count}\")\n",
        "            writer.writerow([ip, count])\n",
        "\n",
        "    # Print and save Most Frequently Accessed Endpoint\n",
        "    print(\"\\nMost Frequently Accessed Endpoint:\")\n",
        "    most_accessed_endpoint = max(endpoint_count, key=endpoint_count.get)\n",
        "    print(f\"{most_accessed_endpoint:<30}(Accessed {endpoint_count[most_accessed_endpoint]} times)\")\n",
        "    with open('log_analysis_results.csv', 'a', newline='') as csvfile:\n",
        "        writer = csv.writer(csvfile)\n",
        "        writer.writerow(['Endpoint', 'Access Count'])\n",
        "        writer.writerow([most_accessed_endpoint, endpoint_count[most_accessed_endpoint]])\n",
        "\n",
        "    # Print and save Suspicious Activity (Failed Login Attempts)\n",
        "    print(\"\\nSuspicious Activity Detected:\")\n",
        "    with open('log_analysis_results.csv', 'a', newline='') as csvfile:\n",
        "        writer = csv.writer(csvfile)\n",
        "        writer.writerow(['IP Address', 'Failed Login Count'])\n",
        "        suspicious_found = False  # Flag to check if any suspicious activity is detected\n",
        "        for ip, count in failed_logins.items():\n",
        "            if count > FAILED_LOGIN_THRESHOLD:\n",
        "                print(f\"{ip:<20}{count}\")\n",
        "                writer.writerow([ip, count])\n",
        "                suspicious_found = True\n",
        "\n",
        "        # If no suspicious activity detected, print a message\n",
        "        if not suspicious_found:\n",
        "            print(\"No suspicious activity detected\")\n",
        "\n",
        "# Main function to run the script\n",
        "def main():\n",
        "    log_file_path = 'sample.log'  # Path to the log file\n",
        "    ip_count, endpoint_count, failed_logins = parse_log(log_file_path)\n",
        "    output_results(ip_count, endpoint_count, failed_logins)\n",
        "\n",
        "if __name__ == \"__main__\":\n",
        "    main()"
      ],
      "metadata": {
        "colab": {
          "base_uri": "https://localhost:8080/"
        },
        "id": "J2lbvV5BJqY5",
        "outputId": "03f5a475-444a-4f11-bb69-2ed7d7bc2efb"
      },
      "execution_count": 8,
      "outputs": [
        {
          "output_type": "stream",
          "name": "stdout",
          "text": [
            "\n",
            "IP Address           Request Count\n",
            "203.0.113.5         8\n",
            "198.51.100.23       8\n",
            "192.168.1.1         7\n",
            "10.0.0.2            6\n",
            "192.168.1.100       5\n",
            "\n",
            "Most Frequently Accessed Endpoint:\n",
            "/login                        (Accessed 13 times)\n",
            "\n",
            "Suspicious Activity Detected:\n",
            "No suspicious activity detected\n"
          ]
        }
      ]
    },
    {
      "cell_type": "code",
      "source": [],
      "metadata": {
        "id": "E467FXuyJuXc"
      },
      "execution_count": null,
      "outputs": []
    }
  ]
}